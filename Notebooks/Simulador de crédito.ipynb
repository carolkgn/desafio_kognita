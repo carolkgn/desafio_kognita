{
 "cells": [
  {
   "cell_type": "markdown",
   "id": "f5a00030-e508-4290-b618-73aa47e52554",
   "metadata": {},
   "source": [
    "## Importando o modelo"
   ]
  },
  {
   "cell_type": "code",
   "execution_count": 2,
   "id": "bedb4198-b6ac-4d85-bb6c-e7b873a53cc6",
   "metadata": {},
   "outputs": [],
   "source": [
    "import pickle\n",
    "\n",
    "modelo = open('modelo_credit_score','rb')\n",
    "lm_new = pickle.load(modelo)\n",
    "modelo.close()"
   ]
  },
  {
   "cell_type": "markdown",
   "id": "0d23dafa-350e-458f-9d0a-2c65b5fe2dee",
   "metadata": {},
   "source": [
    "## Simulador"
   ]
  },
  {
   "cell_type": "code",
   "execution_count": 27,
   "id": "3fca5b28-703b-4479-9a67-ef1cb6a16c41",
   "metadata": {},
   "outputs": [],
   "source": [
    "def simulador(entrada):\n",
    "    if lm_new.predict(entrada)[0] == 0:\n",
    "        print('Default: {}, bom pagador.'.format(lm_new.predict(entrada)[0]))\n",
    "    else:\n",
    "        print('Default: {}, mau pagador.'.format(lm_new.predict(entrada)[0]))"
   ]
  },
  {
   "cell_type": "markdown",
   "id": "7cda435a-3eab-49e7-b5ff-f4877d4a8994",
   "metadata": {},
   "source": [
    "## Simulação 1"
   ]
  },
  {
   "cell_type": "code",
   "execution_count": 28,
   "id": "901f12d9-add5-4468-833a-aeb52edc1647",
   "metadata": {},
   "outputs": [],
   "source": [
    "valor_quitado = 4.000861e+04\n",
    "valor_por_vencer = 19281.291534\n",
    "valor_vencido = 1000.0\n",
    "entrada = [[valor_quitado, valor_por_vencer, valor_vencido]]"
   ]
  },
  {
   "cell_type": "code",
   "execution_count": 29,
   "id": "84841872-cfc7-4211-ba8e-99dff12da9b3",
   "metadata": {},
   "outputs": [
    {
     "name": "stdout",
     "output_type": "stream",
     "text": [
      "Default: 0, bom pagador.\n"
     ]
    }
   ],
   "source": [
    "simulador(entrada)"
   ]
  },
  {
   "cell_type": "markdown",
   "id": "3c8a025a-6f88-4f62-9892-b242421a0e15",
   "metadata": {},
   "source": [
    "## Simulação 2"
   ]
  },
  {
   "cell_type": "code",
   "execution_count": 38,
   "id": "64767348-199c-4c2c-8cb4-9abb8ca93ed6",
   "metadata": {},
   "outputs": [],
   "source": [
    "valor_quitado = 0.00\n",
    "valor_por_vencer = 0.0\n",
    "valor_vencido = 0.0\n",
    "entrada = [[valor_quitado, valor_por_vencer, valor_vencido]]"
   ]
  },
  {
   "cell_type": "code",
   "execution_count": 39,
   "id": "9a9af9a3-381f-41ed-8f08-bc3cde26de47",
   "metadata": {},
   "outputs": [
    {
     "name": "stdout",
     "output_type": "stream",
     "text": [
      "Default: 0, bom pagador.\n"
     ]
    }
   ],
   "source": [
    "simulador(entrada)"
   ]
  },
  {
   "cell_type": "markdown",
   "id": "fd3c2028-e664-4b25-a95a-f6c1f87783f0",
   "metadata": {},
   "source": [
    "## Simulação 3 "
   ]
  },
  {
   "cell_type": "code",
   "execution_count": 46,
   "id": "1a6055b8-3864-4120-927d-06c8ccdc5f86",
   "metadata": {},
   "outputs": [],
   "source": [
    "valor_quitado = 30000.00086\n",
    "valor_por_vencer = 400003969.125732\n",
    "valor_vencido = 100000000.0\n",
    "entrada = [[valor_quitado, valor_por_vencer, valor_vencido]]"
   ]
  },
  {
   "cell_type": "code",
   "execution_count": 47,
   "id": "955f99f5-ab1f-41b1-bdfc-2020d99b1698",
   "metadata": {},
   "outputs": [
    {
     "name": "stdout",
     "output_type": "stream",
     "text": [
      "Default: 0, bom pagador.\n"
     ]
    }
   ],
   "source": [
    "simulador(entrada)"
   ]
  },
  {
   "cell_type": "markdown",
   "id": "f203e483-b99b-4868-932a-0a570792725b",
   "metadata": {},
   "source": [
    "## Conclusões"
   ]
  },
  {
   "cell_type": "markdown",
   "id": "6ed1bcc1-2cab-4ded-a505-fec15e1c429e",
   "metadata": {},
   "source": [
    "Pela segunda simulação, um novo comprador e tomador de crédito seria considerado um bom pagador, entretanto, pelas simulações 1 e 2, parece não existir um reconhecimento adequado de novos valores que não sejam parte da base. Talvez mais dados, ou dferentes parâmetros de treinamento do modelo ajudariam a diminuir ou sanar o overfitting."
   ]
  },
  {
   "cell_type": "markdown",
   "id": "6cc04fa8-e2e6-41b5-8477-d4c244ea6520",
   "metadata": {},
   "source": [
    "**********"
   ]
  }
 ],
 "metadata": {
  "kernelspec": {
   "display_name": "Python 3 (ipykernel)",
   "language": "python",
   "name": "python3"
  },
  "language_info": {
   "codemirror_mode": {
    "name": "ipython",
    "version": 3
   },
   "file_extension": ".py",
   "mimetype": "text/x-python",
   "name": "python",
   "nbconvert_exporter": "python",
   "pygments_lexer": "ipython3",
   "version": "3.8.11"
  }
 },
 "nbformat": 4,
 "nbformat_minor": 5
}
